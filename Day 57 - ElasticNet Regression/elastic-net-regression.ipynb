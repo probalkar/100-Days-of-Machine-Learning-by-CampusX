{
 "cells": [
  {
   "cell_type": "markdown",
   "id": "f18421c9-0b93-4e4a-bf51-00feaa082f0f",
   "metadata": {},
   "source": [
    "## ElasticNet Regression\n",
    "\n",
    "Elastic Net regularization is a linear regression technique that combines the penalties of both ridge regression ( $L_2$ regularization) and Lasso regression ( $L_1$ regularization). It addresses the limitations of both methods by introducing a hybrid penalty term, allowing for more flexibility in controlling model complexity and performing variable selection.\n",
    "\n",
    "### Objective Function:\n",
    "\n",
    "The Elastic Net objective function is the mean of squared residuals (MSE) and a regularization term:\n",
    "\n",
    "$$ \\text{Minimize} \\left( \\text{MSE} + a \\sum_{i=1}^{n} \\beta_i^2 + b \\sum_{i=1}^{n} | \\beta_i | \\right) $$\n",
    "$$ \\lambda = a + b $$\n",
    "$$ l_1 \\text{ ratio} = \\dfrac{a}{a + b} $$\n",
    "\n",
    "Where:\n",
    "- MSE is the mean of squared residuals, similar to the ordinary least squares (OLS) objective function.\n",
    "- $ a $ and $ b $ are the regularization parameters (also known as regularization strengths or penalty terms) for the $ L_2 $ and $ L_1 $ penalties, respectively.\n",
    "- $ \\beta_i $ are the regression coefficients.\n",
    "\n",
    "### Key Characteristics:\n",
    "\n",
    "1. **Combined Penalty Term:** Elastic Net combines both ridge and Lasso penalties, allowing for a flexible trade-off between the benefits of each regularization technique.\n",
    "2. **Shrinkage and Selection:** Like Lasso, Elastic Net can shrink coefficients towards zero and perform variable selection by setting some coefficients exactly to zero.\n",
    "3. **Control over Sparsity and Ridge Effects:** Elastic Net allows fine-tuning of the sparsity of the solution and the ridge effects by adjusting the relative strengths of the $ L_1 $ and $ L_2 $ penalties.\n",
    "4. **Handle Highly Correlated Features:** Elastic Net can handle highly correlated features more effectively than Lasso alone, as it tends to select one of them while shrinking the others.\n",
    "\n",
    "### Benefits:\n",
    "\n",
    "1. **Flexibility:** Elastic Net provides a flexible regularization framework that combines the benefits of ridge and Lasso regression.\n",
    "2. **Improved Stability:** Elastic Net can be more stable than Lasso, especially when dealing with datasets with high multicollinearity.\n",
    "3. **Variable Selection:** Elastic Net can perform automatic feature selection by setting some coefficients to zero, aiding in model interpretability and reducing overfitting.\n",
    "\n",
    "### Implementation:\n",
    "\n",
    "Elastic Net regularization can be implemented using scikit-learn's `ElasticNet` estimator. The regularization parameters $ a $ and $ b $ can be tuned using cross-validation to find the optimal values for the given dataset.\n",
    "\n",
    "### Summary:\n",
    "\n",
    "Elastic Net regularization is a powerful linear regression technique that combines the penalties of ridge and Lasso regression, offering a flexible approach to regularization and variable selection. By controlling the relative strengths of the $ L_1 $ and $ L_2 $ penalties, Elastic Net provides a balance between shrinkage and sparsity, making it suitable for a wide range of regression problems, especially when dealing with datasets with correlated features and potential multicollinearity."
   ]
  },
  {
   "cell_type": "code",
   "execution_count": 70,
   "id": "71e28874",
   "metadata": {},
   "outputs": [],
   "source": [
    "from sklearn.datasets import load_diabetes\n",
    "from sklearn.linear_model import LinearRegression,Ridge,Lasso,ElasticNet\n",
    "from sklearn.model_selection import train_test_split\n",
    "from sklearn.metrics import r2_score"
   ]
  },
  {
   "cell_type": "code",
   "execution_count": 71,
   "id": "284ccf3c",
   "metadata": {},
   "outputs": [],
   "source": [
    "X,y = load_diabetes(return_X_y=True)"
   ]
  },
  {
   "cell_type": "code",
   "execution_count": 72,
   "id": "799d9080",
   "metadata": {},
   "outputs": [],
   "source": [
    "X_train,X_test,y_train,y_test = train_test_split(X,y,test_size=0.2,random_state=2)"
   ]
  },
  {
   "cell_type": "code",
   "execution_count": 73,
   "id": "8a242b9f",
   "metadata": {},
   "outputs": [
    {
     "data": {
      "text/plain": [
       "0.4399387660024645"
      ]
     },
     "execution_count": 73,
     "metadata": {},
     "output_type": "execute_result"
    }
   ],
   "source": [
    "# Linear Regression\n",
    "reg = LinearRegression()\n",
    "reg.fit(X_train,y_train)\n",
    "y_pred = reg.predict(X_test)\n",
    "r2_score(y_test,y_pred)"
   ]
  },
  {
   "cell_type": "code",
   "execution_count": 74,
   "id": "a41eb10c",
   "metadata": {},
   "outputs": [
    {
     "data": {
      "text/plain": [
       "0.4519973816947852"
      ]
     },
     "execution_count": 74,
     "metadata": {},
     "output_type": "execute_result"
    }
   ],
   "source": [
    "# Ridge \n",
    "reg = Ridge(alpha=0.1)\n",
    "reg.fit(X_train,y_train)\n",
    "y_pred = reg.predict(X_test)\n",
    "r2_score(y_test,y_pred)"
   ]
  },
  {
   "cell_type": "code",
   "execution_count": 75,
   "id": "b6b53e7c",
   "metadata": {},
   "outputs": [
    {
     "data": {
      "text/plain": [
       "0.4411227990495632"
      ]
     },
     "execution_count": 75,
     "metadata": {},
     "output_type": "execute_result"
    }
   ],
   "source": [
    "# Lasso\n",
    "reg = Lasso(alpha=0.01)\n",
    "reg.fit(X_train,y_train)\n",
    "y_pred = reg.predict(X_test)\n",
    "r2_score(y_test,y_pred)"
   ]
  },
  {
   "cell_type": "code",
   "execution_count": 76,
   "id": "5fc65b12",
   "metadata": {},
   "outputs": [
    {
     "data": {
      "text/plain": [
       "0.4531493801165679"
      ]
     },
     "execution_count": 76,
     "metadata": {},
     "output_type": "execute_result"
    }
   ],
   "source": [
    "# ElasticNet\n",
    "reg = ElasticNet(alpha=0.005,l1_ratio=0.9)\n",
    "reg.fit(X_train,y_train)\n",
    "y_pred = reg.predict(X_test)\n",
    "r2_score(y_test,y_pred)"
   ]
  },
  {
   "cell_type": "code",
   "execution_count": null,
   "id": "0cb67b0c",
   "metadata": {},
   "outputs": [],
   "source": []
  }
 ],
 "metadata": {
  "kernelspec": {
   "display_name": "Python 3 (ipykernel)",
   "language": "python",
   "name": "python3"
  },
  "language_info": {
   "codemirror_mode": {
    "name": "ipython",
    "version": 3
   },
   "file_extension": ".py",
   "mimetype": "text/x-python",
   "name": "python",
   "nbconvert_exporter": "python",
   "pygments_lexer": "ipython3",
   "version": "3.12.2"
  }
 },
 "nbformat": 4,
 "nbformat_minor": 5
}
