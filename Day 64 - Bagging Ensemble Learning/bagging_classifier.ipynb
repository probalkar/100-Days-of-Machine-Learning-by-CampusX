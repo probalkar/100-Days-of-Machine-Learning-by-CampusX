{
 "cells": [
  {
   "cell_type": "markdown",
   "metadata": {},
   "source": [
    "## Bagging Classifier\n",
    "\n",
    "The BaggingClassifier is a popular ensemble learning method provided by the Scikit-learn library, which implements the bagging (Bootstrap Aggregating) technique for classification tasks. It aggregates the predictions of multiple base classifiers trained on different subsets of the training data to make a final prediction. Here's a detailed overview of the BaggingClassifier:\n",
    "\n",
    "### Key Features and Parameters:\n",
    "\n",
    "1. **Base Estimator**:\n",
    "   - The base estimator is the machine learning algorithm used to train each base classifier in the ensemble.\n",
    "   - It can be any classifier from Scikit-learn, such as decision trees, support vector machines, k-nearest neighbors, etc.\n",
    "\n",
    "2. **n_estimators**:\n",
    "   - The number of base classifiers (estimators) to include in the ensemble.\n",
    "   - Increasing the number of estimators typically leads to better performance, but it also increases computational complexity.\n",
    "\n",
    "3. **max_samples**:\n",
    "   - The number or proportion of samples to draw from the training data for each base classifier.\n",
    "   - It controls the size of the bootstrap sample used for training each base classifier.\n",
    "   - By default, it is set to the size of the training dataset.\n",
    "\n",
    "4. **max_features**:\n",
    "   - The number or proportion of features to consider for each base classifier.\n",
    "   - It controls the size of the random subset of features used for training each base classifier.\n",
    "   - If set to 1.0, all features are considered for each base classifier.\n",
    "   - If set to less than 1.0, it specifies the proportion of features to consider.\n",
    "   - If set to 'sqrt', it considers the square root of the total number of features.\n",
    "   - If set to 'log2', it considers the logarithm base 2 of the total number of features.\n",
    "\n",
    "5. **bootstrap**:\n",
    "   - Whether to use bootstrap sampling (with replacement) when creating the training datasets for each base classifier.\n",
    "   - If set to True (default), bootstrap sampling is used.\n",
    "   - If set to False, pasting (sampling without replacement) is used.\n",
    "\n",
    "6. **bootstrap_features**:\n",
    "   - Whether to use bootstrap sampling when selecting features for each base classifier.\n",
    "   - If set to True (default), bootstrap sampling is used.\n",
    "   - If set to False, all features are considered for each base classifier.\n",
    "\n",
    "7. **n_jobs**:\n",
    "   - The number of CPU cores to use for parallelizing the training of base classifiers.\n",
    "   - If set to -1 (default), all available CPU cores are used.\n",
    "\n",
    "### How BaggingClassifier Works:\n",
    "\n",
    "1. **Training**:\n",
    "   - The BaggingClassifier first creates multiple bootstrap samples (or subsets) of the training data, each containing a random subset of instances (samples).\n",
    "   - Then, it trains a base classifier (specified by the base estimator parameter) independently on each bootstrap sample.\n",
    "   - Each base classifier learns to classify instances based on the features present in its respective bootstrap sample.\n",
    "\n",
    "2. **Prediction Aggregation**:\n",
    "   - During prediction, each base classifier makes its own individual predictions on the unseen data.\n",
    "   - For classification tasks, the BaggingClassifier aggregates the predictions of all base classifiers using majority voting.\n",
    "   - The class that receives the most votes among the base classifiers is considered the final prediction.\n",
    "   - For regression tasks, predictions from all base classifiers are typically averaged to obtain the final prediction.\n",
    "\n",
    "### Advantages:\n",
    "\n",
    "- **Variance Reduction**: BaggingClassifier reduces overfitting and variance by combining predictions from multiple base classifiers trained on different subsets of the data.\n",
    "  \n",
    "- **Robustness**: By training models on diverse subsets of the data, BaggingClassifier is more robust to outliers and noisy data.\n",
    "\n",
    "- **Parallelization**: BaggingClassifier supports parallel training of base classifiers, allowing for efficient utilization of computational resources.\n",
    "\n",
    "### Example Usage:\n",
    "\n",
    "```python\n",
    "from sklearn.ensemble import BaggingClassifier\n",
    "from sklearn.tree import DecisionTreeClassifier\n",
    "\n",
    "# Define base classifier\n",
    "base_classifier = DecisionTreeClassifier()\n",
    "\n",
    "# Create BaggingClassifier\n",
    "bagging_classifier = BaggingClassifier(base_estimator=base_classifier, n_estimators=10, max_samples=0.8, max_features=0.8)\n",
    "\n",
    "# Train BaggingClassifier\n",
    "bagging_classifier.fit(X_train, y_train)\n",
    "\n",
    "# Make predictions\n",
    "y_pred = bagging_classifier.predict(X_test)\n",
    "```\n",
    "\n",
    "In this example, we create a BaggingClassifier with a base decision tree classifier and train it on the training data (X_train, y_train). We then make predictions on the test data (X_test) using the trained BaggingClassifier."
   ]
  },
  {
   "cell_type": "markdown",
   "metadata": {},
   "source": [
    "### Out-of-Bag (OOB) Score:\n",
    "\n",
    "1. **Definition**:\n",
    "   - When creating each bootstrap sample for training the base classifiers in a BaggingClassifier, some instances may not be included in the bootstrap sample (due to sampling with replacement).\n",
    "   - The OOB score is calculated by evaluating each base classifier on the instances that were not included in its corresponding bootstrap sample during training.\n",
    "   - Since these instances were not used in training, they essentially act as a validation set for assessing the performance of the base classifier.\n",
    "\n",
    "2. **Calculation**:\n",
    "   - For each instance in the training dataset, the OOB score is calculated by averaging the predictions made by the base classifiers that did not include that instance in their training bootstrap sample.\n",
    "   - The OOB score is computed across all instances in the training dataset to obtain an overall measure of performance.\n",
    "\n",
    "3. **Usage**:\n",
    "   - The OOB score provides an estimate of the model's performance on unseen data without the need for a separate validation set.\n",
    "   - It is especially useful when the dataset is limited, and splitting it into separate training and validation sets may reduce the amount of data available for training.\n",
    "\n",
    "4. **Interpretation**:\n",
    "   - A higher OOB score indicates better predictive performance of the BaggingClassifier.\n",
    "   - Comparing the OOB score to the accuracy obtained on a separate validation set can help assess the generalization performance of the model.\n",
    "\n",
    "### Advantages:\n",
    "\n",
    "- **Efficiency**: The OOB score utilizes all available training data, making efficient use of the dataset without the need for a separate validation set.\n",
    "  \n",
    "- **Unbiased Estimate**: Since the OOB score is calculated on instances that were not included in the training bootstrap samples, it provides an unbiased estimate of the model's performance on unseen data.\n",
    "\n",
    "- **Convenience**: OOB score computation is built-in to Scikit-learn's BaggingClassifier, making it convenient to assess model performance during training.\n",
    "\n",
    "### Example Usage:\n",
    "\n",
    "```python\n",
    "from sklearn.ensemble import BaggingClassifier\n",
    "from sklearn.tree import DecisionTreeClassifier\n",
    "\n",
    "# Define base classifier\n",
    "base_classifier = DecisionTreeClassifier()\n",
    "\n",
    "# Create BaggingClassifier with OOB scoring enabled\n",
    "bagging_classifier = BaggingClassifier(base_estimator=base_classifier, n_estimators=10, oob_score=True)\n",
    "\n",
    "# Train BaggingClassifier\n",
    "bagging_classifier.fit(X_train, y_train)\n",
    "\n",
    "# Obtain OOB score\n",
    "oob_score = bagging_classifier.oob_score_\n",
    "print(\"Out-of-Bag (OOB) Score:\", oob_score)\n",
    "```\n",
    "\n",
    "In this example, we create a BaggingClassifier with a base decision tree classifier and set the `oob_score` parameter to `True` to enable OOB scoring. After training the BaggingClassifier, we can access the OOB score using the `oob_score_` attribute."
   ]
  },
  {
   "cell_type": "code",
   "execution_count": 50,
   "metadata": {
    "id": "ReWdXXnMeDOi"
   },
   "outputs": [],
   "source": [
    "from sklearn.datasets import make_classification\r\n",
    "from sklearn.metrics import accuracy_score\r\n",
    "from sklearn.ensemble import BaggingClassifier\r\n",
    "from sklearn.tree import DecisionTreeClassifier\r\n",
    "from sklearn.svm import SVC\r\n",
    "from sklearn.model_selection import train_test_split"
   ]
  },
  {
   "cell_type": "code",
   "execution_count": 54,
   "metadata": {
    "id": "lLjU4PQQeTzS"
   },
   "outputs": [],
   "source": [
    "X,y = make_classification(n_samples=10000, n_features=10,n_informative=3)"
   ]
  },
  {
   "cell_type": "code",
   "execution_count": 55,
   "metadata": {
    "id": "CGmyyKAzexDH"
   },
   "outputs": [],
   "source": [
    "X_train,X_test,y_train,y_test = train_test_split(X,y,test_size=0.2,random_state=42)"
   ]
  },
  {
   "cell_type": "code",
   "execution_count": 56,
   "metadata": {
    "colab": {
     "base_uri": "https://localhost:8080/"
    },
    "id": "yLcpuIzIe3PP",
    "outputId": "67fd1ba5-5619-4e4a-cb8c-d561352a96f8"
   },
   "outputs": [
    {
     "name": "stdout",
     "output_type": "stream",
     "text": [
      "Decision Tree accuracy 0.8755\n"
     ]
    }
   ],
   "source": [
    "dt = DecisionTreeClassifier(random_state=42)\r\n",
    "dt.fit(X_train,y_train)\r\n",
    "y_pred = dt.predict(X_test)\r\n",
    "\r\n",
    "print(\"Decision Tree accuracy\",accuracy_score(y_test,y_pred))"
   ]
  },
  {
   "cell_type": "markdown",
   "metadata": {
    "id": "3uZFVRDXYjRu"
   },
   "source": [
    "# Bagging"
   ]
  },
  {
   "cell_type": "code",
   "execution_count": 64,
   "metadata": {
    "id": "eY_kaGqBe-R-"
   },
   "outputs": [],
   "source": [
    "bag = BaggingClassifier(\r\n",
    "    base_estimator=DecisionTreeClassifier(),\r\n",
    "    n_estimators=500,\r\n",
    "    max_samples=0.5,\r\n",
    "    bootstrap=True,\r\n",
    "    random_state=42\r\n",
    ")"
   ]
  },
  {
   "cell_type": "code",
   "execution_count": 65,
   "metadata": {
    "colab": {
     "base_uri": "https://localhost:8080/"
    },
    "id": "ZoXHKroUfT3n",
    "outputId": "fb8c154e-1574-4e5c-fdb2-2c6cbec7a725"
   },
   "outputs": [
    {
     "data": {
      "text/plain": [
       "BaggingClassifier(base_estimator=DecisionTreeClassifier(ccp_alpha=0.0,\n",
       "                                                        class_weight=None,\n",
       "                                                        criterion='gini',\n",
       "                                                        max_depth=None,\n",
       "                                                        max_features=None,\n",
       "                                                        max_leaf_nodes=None,\n",
       "                                                        min_impurity_decrease=0.0,\n",
       "                                                        min_impurity_split=None,\n",
       "                                                        min_samples_leaf=1,\n",
       "                                                        min_samples_split=2,\n",
       "                                                        min_weight_fraction_leaf=0.0,\n",
       "                                                        presort='deprecated',\n",
       "                                                        random_state=None,\n",
       "                                                        splitter='best'),\n",
       "                  bootstrap=True, bootstrap_features=False, max_features=1.0,\n",
       "                  max_samples=0.5, n_estimators=500, n_jobs=None,\n",
       "                  oob_score=False, random_state=42, verbose=0,\n",
       "                  warm_start=False)"
      ]
     },
     "execution_count": 65,
     "metadata": {
      "tags": []
     },
     "output_type": "execute_result"
    }
   ],
   "source": [
    "bag.fit(X_train,y_train)"
   ]
  },
  {
   "cell_type": "code",
   "execution_count": 66,
   "metadata": {
    "id": "ZgcehMVMfW2L"
   },
   "outputs": [],
   "source": [
    "y_pred = bag.predict(X_test)"
   ]
  },
  {
   "cell_type": "code",
   "execution_count": 67,
   "metadata": {
    "colab": {
     "base_uri": "https://localhost:8080/"
    },
    "id": "a3ftr8Q1faVP",
    "outputId": "637a7630-b3cd-4040-a1f0-c051918a17fc"
   },
   "outputs": [
    {
     "data": {
      "text/plain": [
       "0.9165"
      ]
     },
     "execution_count": 67,
     "metadata": {
      "tags": []
     },
     "output_type": "execute_result"
    }
   ],
   "source": [
    "accuracy_score(y_test,y_pred)"
   ]
  },
  {
   "cell_type": "code",
   "execution_count": 68,
   "metadata": {
    "colab": {
     "base_uri": "https://localhost:8080/"
    },
    "id": "rJa4tSMin_26",
    "outputId": "b70af0c4-e0d5-4a47-a7b7-06db5c751de1"
   },
   "outputs": [
    {
     "data": {
      "text/plain": [
       "(4000,)"
      ]
     },
     "execution_count": 68,
     "metadata": {
      "tags": []
     },
     "output_type": "execute_result"
    }
   ],
   "source": [
    "bag.estimators_samples_[0].shape"
   ]
  },
  {
   "cell_type": "code",
   "execution_count": 69,
   "metadata": {
    "colab": {
     "base_uri": "https://localhost:8080/"
    },
    "id": "JWo0CNMmoZzQ",
    "outputId": "f1087159-10ae-4361-d5f9-680da50bc783"
   },
   "outputs": [
    {
     "data": {
      "text/plain": [
       "(10,)"
      ]
     },
     "execution_count": 69,
     "metadata": {
      "tags": []
     },
     "output_type": "execute_result"
    }
   ],
   "source": [
    "bag.estimators_features_[0].shape"
   ]
  },
  {
   "cell_type": "markdown",
   "metadata": {
    "id": "kIObt37An1T8"
   },
   "source": []
  },
  {
   "cell_type": "markdown",
   "metadata": {
    "id": "HCgztqWncKQ8"
   },
   "source": [
    "# Bagging using SVM"
   ]
  },
  {
   "cell_type": "code",
   "execution_count": 70,
   "metadata": {
    "id": "ZWmS8I9RcM5c"
   },
   "outputs": [],
   "source": [
    "bag = BaggingClassifier(\r\n",
    "    base_estimator=SVC(),\r\n",
    "    n_estimators=500,\r\n",
    "    max_samples=0.25,\r\n",
    "    bootstrap=True,\r\n",
    "    random_state=42\r\n",
    ")"
   ]
  },
  {
   "cell_type": "code",
   "execution_count": 71,
   "metadata": {
    "colab": {
     "base_uri": "https://localhost:8080/"
    },
    "id": "Renx0AxMcTqL",
    "outputId": "5179381c-a5b8-4218-f5ee-9a2510908aff"
   },
   "outputs": [
    {
     "name": "stdout",
     "output_type": "stream",
     "text": [
      "Bagging using SVM 0.901\n"
     ]
    }
   ],
   "source": [
    "bag.fit(X_train,y_train)\r\n",
    "y_pred = bag.predict(X_test)\r\n",
    "print(\"Bagging using SVM\",accuracy_score(y_test,y_pred))"
   ]
  },
  {
   "cell_type": "markdown",
   "metadata": {
    "id": "TzErWPZ2YmH0"
   },
   "source": [
    "# Pasting"
   ]
  },
  {
   "cell_type": "code",
   "execution_count": 72,
   "metadata": {
    "id": "65AsbB-PYozP"
   },
   "outputs": [],
   "source": [
    "bag = BaggingClassifier(\r\n",
    "    base_estimator=DecisionTreeClassifier(),\r\n",
    "    n_estimators=500,\r\n",
    "    max_samples=0.25,\r\n",
    "    bootstrap=False,\r\n",
    "    random_state=42,\r\n",
    "    verbose = 1,\r\n",
    "    n_jobs=-1\r\n",
    ")"
   ]
  },
  {
   "cell_type": "code",
   "execution_count": 73,
   "metadata": {
    "colab": {
     "base_uri": "https://localhost:8080/"
    },
    "id": "fDm-J70cYo7E",
    "outputId": "bc2c8fea-0d8b-404b-bf16-9f68e78cbd49"
   },
   "outputs": [
    {
     "name": "stderr",
     "output_type": "stream",
     "text": [
      "[Parallel(n_jobs=2)]: Using backend LokyBackend with 2 concurrent workers.\n",
      "[Parallel(n_jobs=2)]: Done   2 out of   2 | elapsed:    8.3s remaining:    0.0s\n",
      "[Parallel(n_jobs=2)]: Done   2 out of   2 | elapsed:    8.3s finished\n",
      "[Parallel(n_jobs=2)]: Using backend LokyBackend with 2 concurrent workers.\n"
     ]
    },
    {
     "name": "stdout",
     "output_type": "stream",
     "text": [
      "Pasting classifier 0.9165\n"
     ]
    },
    {
     "name": "stderr",
     "output_type": "stream",
     "text": [
      "[Parallel(n_jobs=2)]: Done   2 out of   2 | elapsed:    0.5s remaining:    0.0s\n",
      "[Parallel(n_jobs=2)]: Done   2 out of   2 | elapsed:    0.5s finished\n"
     ]
    }
   ],
   "source": [
    "bag.fit(X_train,y_train)\r\n",
    "y_pred = bag.predict(X_test)\r\n",
    "print(\"Pasting classifier\",accuracy_score(y_test,y_pred))"
   ]
  },
  {
   "cell_type": "markdown",
   "metadata": {
    "id": "BLqraRg3ZO7t"
   },
   "source": [
    "# Random Subspaces"
   ]
  },
  {
   "cell_type": "code",
   "execution_count": 74,
   "metadata": {
    "id": "kFWhqzngYpGj"
   },
   "outputs": [],
   "source": [
    "bag = BaggingClassifier(\r\n",
    "    base_estimator=DecisionTreeClassifier(),\r\n",
    "    n_estimators=500,\r\n",
    "    max_samples=1.0,\r\n",
    "    bootstrap=False,\r\n",
    "    max_features=0.5,\r\n",
    "    bootstrap_features=True,\r\n",
    "    random_state=42\r\n",
    ")"
   ]
  },
  {
   "cell_type": "code",
   "execution_count": 75,
   "metadata": {
    "colab": {
     "base_uri": "https://localhost:8080/"
    },
    "id": "9JVSgguMZdDb",
    "outputId": "30145bdb-223c-483f-ec15-6bcc83ae2834"
   },
   "outputs": [
    {
     "name": "stdout",
     "output_type": "stream",
     "text": [
      "Random Subspaces classifier 0.911\n"
     ]
    }
   ],
   "source": [
    "bag.fit(X_train,y_train)\r\n",
    "y_pred = bag.predict(X_test)\r\n",
    "print(\"Random Subspaces classifier\",accuracy_score(y_test,y_pred))"
   ]
  },
  {
   "cell_type": "code",
   "execution_count": 76,
   "metadata": {
    "colab": {
     "base_uri": "https://localhost:8080/"
    },
    "id": "ijhj37uupe3r",
    "outputId": "05cf0cf8-adf0-471d-8333-6191fb49ec01"
   },
   "outputs": [
    {
     "data": {
      "text/plain": [
       "(8000,)"
      ]
     },
     "execution_count": 76,
     "metadata": {
      "tags": []
     },
     "output_type": "execute_result"
    }
   ],
   "source": [
    "bag.estimators_samples_[0].shape"
   ]
  },
  {
   "cell_type": "code",
   "execution_count": 77,
   "metadata": {
    "colab": {
     "base_uri": "https://localhost:8080/"
    },
    "id": "giDAJalopje4",
    "outputId": "8bdff414-4761-4ad5-b6db-c967dc7cabd4"
   },
   "outputs": [
    {
     "data": {
      "text/plain": [
       "(5,)"
      ]
     },
     "execution_count": 77,
     "metadata": {
      "tags": []
     },
     "output_type": "execute_result"
    }
   ],
   "source": [
    "bag.estimators_features_[0].shape"
   ]
  },
  {
   "cell_type": "markdown",
   "metadata": {
    "id": "A2E0HMMFZr6k"
   },
   "source": [
    "# Random Patches"
   ]
  },
  {
   "cell_type": "code",
   "execution_count": 78,
   "metadata": {
    "id": "MPglsqEtZvX0"
   },
   "outputs": [],
   "source": [
    "bag = BaggingClassifier(\r\n",
    "    base_estimator=DecisionTreeClassifier(),\r\n",
    "    n_estimators=500,\r\n",
    "    max_samples=0.25,\r\n",
    "    bootstrap=True,\r\n",
    "    max_features=0.5,\r\n",
    "    bootstrap_features=True,\r\n",
    "    random_state=42\r\n",
    ")"
   ]
  },
  {
   "cell_type": "code",
   "execution_count": 79,
   "metadata": {
    "colab": {
     "base_uri": "https://localhost:8080/"
    },
    "id": "cNWH0JHiZvbr",
    "outputId": "d8219936-b17a-4446-87cd-1070b9bd422d"
   },
   "outputs": [
    {
     "name": "stdout",
     "output_type": "stream",
     "text": [
      "Random Patches classifier 0.909\n"
     ]
    }
   ],
   "source": [
    "bag.fit(X_train,y_train)\r\n",
    "y_pred = bag.predict(X_test)\r\n",
    "print(\"Random Patches classifier\",accuracy_score(y_test,y_pred))"
   ]
  },
  {
   "cell_type": "markdown",
   "metadata": {
    "id": "7m-74wy0aEa7"
   },
   "source": [
    "# OOB Score"
   ]
  },
  {
   "cell_type": "code",
   "execution_count": 80,
   "metadata": {
    "id": "EgfPdBfVaG-U"
   },
   "outputs": [],
   "source": [
    "bag = BaggingClassifier(\r\n",
    "    base_estimator=DecisionTreeClassifier(),\r\n",
    "    n_estimators=500,\r\n",
    "    max_samples=0.25,\r\n",
    "    bootstrap=True,\r\n",
    "    oob_score=True,\r\n",
    "    random_state=42\r\n",
    ")"
   ]
  },
  {
   "cell_type": "code",
   "execution_count": 81,
   "metadata": {
    "colab": {
     "base_uri": "https://localhost:8080/"
    },
    "id": "B-NmncQXaHGj",
    "outputId": "c641d683-a349-4180-e403-8004f9821b42"
   },
   "outputs": [
    {
     "data": {
      "text/plain": [
       "BaggingClassifier(base_estimator=DecisionTreeClassifier(ccp_alpha=0.0,\n",
       "                                                        class_weight=None,\n",
       "                                                        criterion='gini',\n",
       "                                                        max_depth=None,\n",
       "                                                        max_features=None,\n",
       "                                                        max_leaf_nodes=None,\n",
       "                                                        min_impurity_decrease=0.0,\n",
       "                                                        min_impurity_split=None,\n",
       "                                                        min_samples_leaf=1,\n",
       "                                                        min_samples_split=2,\n",
       "                                                        min_weight_fraction_leaf=0.0,\n",
       "                                                        presort='deprecated',\n",
       "                                                        random_state=None,\n",
       "                                                        splitter='best'),\n",
       "                  bootstrap=True, bootstrap_features=False, max_features=1.0,\n",
       "                  max_samples=0.25, n_estimators=500, n_jobs=None,\n",
       "                  oob_score=True, random_state=42, verbose=0, warm_start=False)"
      ]
     },
     "execution_count": 81,
     "metadata": {
      "tags": []
     },
     "output_type": "execute_result"
    }
   ],
   "source": [
    "bag.fit(X_train,y_train)"
   ]
  },
  {
   "cell_type": "code",
   "execution_count": 82,
   "metadata": {
    "colab": {
     "base_uri": "https://localhost:8080/"
    },
    "id": "Tt2iB2cHaSfc",
    "outputId": "c151215c-8ff0-45ac-b2f7-218382c57e47"
   },
   "outputs": [
    {
     "data": {
      "text/plain": [
       "0.90425"
      ]
     },
     "execution_count": 82,
     "metadata": {
      "tags": []
     },
     "output_type": "execute_result"
    }
   ],
   "source": [
    "bag.oob_score_"
   ]
  },
  {
   "cell_type": "code",
   "execution_count": 83,
   "metadata": {
    "colab": {
     "base_uri": "https://localhost:8080/"
    },
    "id": "BsM-t4ctaaGs",
    "outputId": "38222f1e-f946-423d-be33-257251874948"
   },
   "outputs": [
    {
     "name": "stdout",
     "output_type": "stream",
     "text": [
      "Accuracy 0.9195\n"
     ]
    }
   ],
   "source": [
    "y_pred = bag.predict(X_test)\r\n",
    "print(\"Accuracy\",accuracy_score(y_test,y_pred))"
   ]
  },
  {
   "cell_type": "markdown",
   "metadata": {
    "id": "lo1D9KKKWEHY"
   },
   "source": [
    "# Bagging Tips\r\n",
    "\r\n",
    "- Bagging generally gives better results than Pasting\r\n",
    "- Good results come around the 25% to 50% row sampling mark\r\n",
    "- Random patches and subspaces should be used while dealing with high dimensional data\r\n",
    "- To find the correct hyperparameter values we can do GridSearchCV/RandomSearchCV"
   ]
  },
  {
   "cell_type": "markdown",
   "metadata": {
    "id": "Y0-90QqvWxt8"
   },
   "source": [
    "# Applying GridSearchCV"
   ]
  },
  {
   "cell_type": "code",
   "execution_count": 9,
   "metadata": {
    "id": "uWGDWhYkipb1"
   },
   "outputs": [],
   "source": [
    "from sklearn.model_selection import GridSearchCV"
   ]
  },
  {
   "cell_type": "code",
   "execution_count": 10,
   "metadata": {
    "id": "FZ2EQpQKfkyX"
   },
   "outputs": [],
   "source": [
    "parameters = {\r\n",
    "    'n_estimators': [50,100,500], \r\n",
    "    'max_samples': [0.1,0.4,0.7,1.0],\r\n",
    "    'bootstrap' : [True,False],\r\n",
    "    'max_features' : [0.1,0.4,0.7,1.0]\r\n",
    "    }"
   ]
  },
  {
   "cell_type": "code",
   "execution_count": 11,
   "metadata": {
    "id": "5NtTsrI4ikQX"
   },
   "outputs": [],
   "source": [
    "search = GridSearchCV(BaggingClassifier(), parameters, cv=5)"
   ]
  },
  {
   "cell_type": "code",
   "execution_count": 12,
   "metadata": {
    "colab": {
     "base_uri": "https://localhost:8080/"
    },
    "id": "-97kx2EnixU2",
    "outputId": "098f5ff9-f039-4109-8af0-985da6c0d8bd"
   },
   "outputs": [
    {
     "data": {
      "text/plain": [
       "GridSearchCV(cv=5, error_score=nan,\n",
       "             estimator=BaggingClassifier(base_estimator=None, bootstrap=True,\n",
       "                                         bootstrap_features=False,\n",
       "                                         max_features=1.0, max_samples=1.0,\n",
       "                                         n_estimators=10, n_jobs=None,\n",
       "                                         oob_score=False, random_state=None,\n",
       "                                         verbose=0, warm_start=False),\n",
       "             iid='deprecated', n_jobs=None,\n",
       "             param_grid={'bootstrap': [True, False],\n",
       "                         'max_features': [0.1, 0.4, 0.7, 1.0],\n",
       "                         'max_samples': [0.1, 0.4, 0.7, 1.0],\n",
       "                         'n_estimators': [50, 100, 500]},\n",
       "             pre_dispatch='2*n_jobs', refit=True, return_train_score=False,\n",
       "             scoring=None, verbose=0)"
      ]
     },
     "execution_count": 12,
     "metadata": {
      "tags": []
     },
     "output_type": "execute_result"
    }
   ],
   "source": [
    "search.fit(X_train,y_train)"
   ]
  },
  {
   "cell_type": "code",
   "execution_count": 13,
   "metadata": {
    "colab": {
     "base_uri": "https://localhost:8080/"
    },
    "id": "BEyE_QTzizni",
    "outputId": "0e13660b-ae8b-408f-c2b8-0ed28aa9dfb9"
   },
   "outputs": [
    {
     "data": {
      "text/plain": [
       "0.8986249999999998"
      ]
     },
     "execution_count": 13,
     "metadata": {
      "tags": []
     },
     "output_type": "execute_result"
    }
   ],
   "source": [
    "search.best_params_\r\n",
    "search.best_score_"
   ]
  },
  {
   "cell_type": "code",
   "execution_count": 14,
   "metadata": {
    "colab": {
     "base_uri": "https://localhost:8080/"
    },
    "id": "OdutuW6hW-em",
    "outputId": "5465a544-8c16-4d1e-f835-dea32dca4482"
   },
   "outputs": [
    {
     "data": {
      "text/plain": [
       "{'bootstrap': True,\n",
       " 'max_features': 0.7,\n",
       " 'max_samples': 0.4,\n",
       " 'n_estimators': 500}"
      ]
     },
     "execution_count": 14,
     "metadata": {
      "tags": []
     },
     "output_type": "execute_result"
    }
   ],
   "source": [
    "search.best_params_"
   ]
  },
  {
   "cell_type": "code",
   "execution_count": null,
   "metadata": {
    "id": "UWD2pBiKzk40"
   },
   "outputs": [],
   "source": []
  }
 ],
 "metadata": {
  "colab": {
   "name": "bagging-demo.ipynb",
   "provenance": []
  },
  "kernelspec": {
   "display_name": "Python 3 (ipykernel)",
   "language": "python",
   "name": "python3"
  },
  "language_info": {
   "codemirror_mode": {
    "name": "ipython",
    "version": 3
   },
   "file_extension": ".py",
   "mimetype": "text/x-python",
   "name": "python",
   "nbconvert_exporter": "python",
   "pygments_lexer": "ipython3",
   "version": "3.12.2"
  }
 },
 "nbformat": 4,
 "nbformat_minor": 4
}
